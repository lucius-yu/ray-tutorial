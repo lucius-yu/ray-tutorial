{
 "cells": [
  {
   "cell_type": "markdown",
   "metadata": {},
   "source": [
    "# Install Dependencies\n",
    "\n",
    "If you are running on Google Colab, you need to install the necessary dependencies before beginning the exercise.\n",
    "\n",
    "**NOTE**: After installing the dependencies, you need to click on \"RESTART RUNTIME\""
   ]
  },
  {
   "cell_type": "code",
   "execution_count": null,
   "metadata": {},
   "outputs": [
    {
     "name": "stdout",
     "output_type": "stream",
     "text": [
      "NOTE: Intentionally crashing session to use the newly installed library.\n",
      "\n",
      "\u001b[33mWARNING: Skipping pyarrow as it is not installed.\u001b[0m\n",
      "Collecting ray[debug]==0.7.5\n",
      "  Downloading ray-0.7.5-cp37-cp37m-manylinux1_x86_64.whl (74.9 MB)\n",
      "\u001b[K     |████████████████████████████████| 74.9 MB 260 kB/s  eta 0:00:01\n",
      "\u001b[?25hRequirement already satisfied: colorama in /usr/local/lib/python3.7/site-packages (from ray[debug]==0.7.5) (0.4.3)\n",
      "Requirement already satisfied: redis>=3.3.2 in /usr/local/lib/python3.7/site-packages (from ray[debug]==0.7.5) (3.4.1)\n",
      "Requirement already satisfied: filelock in /usr/local/lib/python3.7/site-packages (from ray[debug]==0.7.5) (3.0.12)\n",
      "Requirement already satisfied: six>=1.0.0 in /usr/local/lib/python3.7/site-packages (from ray[debug]==0.7.5) (1.14.0)\n",
      "Collecting pytest\n",
      "  Downloading pytest-5.4.1-py3-none-any.whl (246 kB)\n",
      "\u001b[K     |████████████████████████████████| 246 kB 41.1 MB/s eta 0:00:01\n",
      "\u001b[?25hRequirement already satisfied: protobuf>=3.8.0 in /usr/local/lib/python3.7/site-packages (from ray[debug]==0.7.5) (3.11.3)\n",
      "Requirement already satisfied: click in /usr/local/lib/python3.7/site-packages (from ray[debug]==0.7.5) (7.1.1)\n",
      "Requirement already satisfied: jsonschema in /usr/local/lib/python3.7/site-packages (from ray[debug]==0.7.5) (3.2.0)\n",
      "Requirement already satisfied: numpy>=1.14 in /usr/local/lib/python3.7/site-packages (from ray[debug]==0.7.5) (1.18.3)\n",
      "Collecting funcsigs\n",
      "  Downloading funcsigs-1.0.2-py2.py3-none-any.whl (17 kB)\n",
      "Requirement already satisfied: pyyaml in /usr/local/lib/python3.7/site-packages (from ray[debug]==0.7.5) (5.3.1)\n",
      "Collecting setproctitle; extra == \"debug\"\n",
      "  Downloading setproctitle-1.1.10.tar.gz (24 kB)\n",
      "Requirement already satisfied: py-spy; extra == \"debug\" in /usr/local/lib/python3.7/site-packages (from ray[debug]==0.7.5) (0.3.3)\n",
      "Collecting psutil; extra == \"debug\"\n",
      "  Downloading psutil-5.7.0.tar.gz (449 kB)\n",
      "\u001b[K     |████████████████████████████████| 449 kB 63.0 MB/s eta 0:00:01\n",
      "\u001b[?25hRequirement already satisfied: wcwidth in /usr/local/lib/python3.7/site-packages (from pytest->ray[debug]==0.7.5) (0.1.9)\n",
      "Requirement already satisfied: attrs>=17.4.0 in /usr/local/lib/python3.7/site-packages (from pytest->ray[debug]==0.7.5) (19.3.0)\n",
      "Requirement already satisfied: importlib-metadata>=0.12; python_version < \"3.8\" in /usr/local/lib/python3.7/site-packages (from pytest->ray[debug]==0.7.5) (1.6.0)\n",
      "Collecting py>=1.5.0\n",
      "  Downloading py-1.8.1-py2.py3-none-any.whl (83 kB)\n",
      "\u001b[K     |████████████████████████████████| 83 kB 5.4 MB/s  eta 0:00:01\n",
      "\u001b[?25hCollecting more-itertools>=4.0.0\n",
      "  Downloading more_itertools-8.2.0-py3-none-any.whl (43 kB)\n",
      "\u001b[K     |████████████████████████████████| 43 kB 6.0 MB/s  eta 0:00:01\n",
      "\u001b[?25hCollecting pluggy<1.0,>=0.12\n",
      "  Downloading pluggy-0.13.1-py2.py3-none-any.whl (18 kB)\n",
      "Requirement already satisfied: packaging in /usr/local/lib/python3.7/site-packages (from pytest->ray[debug]==0.7.5) (20.3)\n",
      "Requirement already satisfied: setuptools in /usr/local/lib/python3.7/site-packages (from protobuf>=3.8.0->ray[debug]==0.7.5) (45.2.0)\n",
      "Requirement already satisfied: pyrsistent>=0.14.0 in /usr/local/lib/python3.7/site-packages (from jsonschema->ray[debug]==0.7.5) (0.16.0)\n",
      "Requirement already satisfied: zipp>=0.5 in /usr/local/lib/python3.7/site-packages (from importlib-metadata>=0.12; python_version < \"3.8\"->pytest->ray[debug]==0.7.5) (3.1.0)\n",
      "Requirement already satisfied: pyparsing>=2.0.2 in /usr/local/lib/python3.7/site-packages (from packaging->pytest->ray[debug]==0.7.5) (2.4.7)\n",
      "Building wheels for collected packages: setproctitle, psutil\n",
      "  Building wheel for setproctitle (setup.py) ... \u001b[?25lerror\n",
      "\u001b[31m  ERROR: Command errored out with exit status 1:\n",
      "   command: /usr/local/bin/python -u -c 'import sys, setuptools, tokenize; sys.argv[0] = '\"'\"'/tmp/pip-install-l8tl86e7/setproctitle/setup.py'\"'\"'; __file__='\"'\"'/tmp/pip-install-l8tl86e7/setproctitle/setup.py'\"'\"';f=getattr(tokenize, '\"'\"'open'\"'\"', open)(__file__);code=f.read().replace('\"'\"'\\r\\n'\"'\"', '\"'\"'\\n'\"'\"');f.close();exec(compile(code, __file__, '\"'\"'exec'\"'\"'))' bdist_wheel -d /tmp/pip-wheel-sohx_b42\n",
      "       cwd: /tmp/pip-install-l8tl86e7/setproctitle/\n",
      "  Complete output (10 lines):\n",
      "  running bdist_wheel\n",
      "  running build\n",
      "  running build_ext\n",
      "  building 'setproctitle' extension\n",
      "  creating build\n",
      "  creating build/temp.linux-x86_64-3.7\n",
      "  creating build/temp.linux-x86_64-3.7/src\n",
      "  gcc -pthread -Wno-unused-result -Wsign-compare -DNDEBUG -g -fwrapv -O3 -Wall -fPIC -DSPT_VERSION=1.1.10 -DHAVE_SYS_PRCTL_H=1 -I/usr/local/include/python3.7m -c src/setproctitle.c -o build/temp.linux-x86_64-3.7/src/setproctitle.o\n",
      "  unable to execute 'gcc': No such file or directory\n",
      "  error: command 'gcc' failed with exit status 1\n",
      "  ----------------------------------------\u001b[0m\n",
      "\u001b[31m  ERROR: Failed building wheel for setproctitle\u001b[0m\n",
      "\u001b[?25h  Running setup.py clean for setproctitle\n",
      "  Building wheel for psutil (setup.py) ... \u001b[?25lerror\n",
      "\u001b[31m  ERROR: Command errored out with exit status 1:\n",
      "   command: /usr/local/bin/python -u -c 'import sys, setuptools, tokenize; sys.argv[0] = '\"'\"'/tmp/pip-install-l8tl86e7/psutil/setup.py'\"'\"'; __file__='\"'\"'/tmp/pip-install-l8tl86e7/psutil/setup.py'\"'\"';f=getattr(tokenize, '\"'\"'open'\"'\"', open)(__file__);code=f.read().replace('\"'\"'\\r\\n'\"'\"', '\"'\"'\\n'\"'\"');f.close();exec(compile(code, __file__, '\"'\"'exec'\"'\"'))' bdist_wheel -d /tmp/pip-wheel-3fqp0plv\n",
      "       cwd: /tmp/pip-install-l8tl86e7/psutil/\n",
      "  Complete output (112 lines):\n",
      "  running bdist_wheel\n",
      "  running build\n",
      "  running build_py\n",
      "  creating build\n",
      "  creating build/lib.linux-x86_64-3.7\n",
      "  creating build/lib.linux-x86_64-3.7/psutil\n",
      "  copying psutil/__init__.py -> build/lib.linux-x86_64-3.7/psutil\n",
      "  copying psutil/_compat.py -> build/lib.linux-x86_64-3.7/psutil\n",
      "  copying psutil/_psbsd.py -> build/lib.linux-x86_64-3.7/psutil\n",
      "  copying psutil/_pssunos.py -> build/lib.linux-x86_64-3.7/psutil\n",
      "  copying psutil/_common.py -> build/lib.linux-x86_64-3.7/psutil\n",
      "  copying psutil/_psaix.py -> build/lib.linux-x86_64-3.7/psutil\n",
      "  copying psutil/_pslinux.py -> build/lib.linux-x86_64-3.7/psutil\n",
      "  copying psutil/_psposix.py -> build/lib.linux-x86_64-3.7/psutil\n",
      "  copying psutil/_pswindows.py -> build/lib.linux-x86_64-3.7/psutil\n",
      "  copying psutil/_psosx.py -> build/lib.linux-x86_64-3.7/psutil\n",
      "  creating build/lib.linux-x86_64-3.7/psutil/tests\n",
      "  copying psutil/tests/test_contracts.py -> build/lib.linux-x86_64-3.7/psutil/tests\n",
      "  copying psutil/tests/test_misc.py -> build/lib.linux-x86_64-3.7/psutil/tests\n",
      "  copying psutil/tests/__init__.py -> build/lib.linux-x86_64-3.7/psutil/tests\n",
      "  copying psutil/tests/test_memory_leaks.py -> build/lib.linux-x86_64-3.7/psutil/tests\n",
      "  copying psutil/tests/test_system.py -> build/lib.linux-x86_64-3.7/psutil/tests\n",
      "  copying psutil/tests/test_posix.py -> build/lib.linux-x86_64-3.7/psutil/tests\n",
      "  copying psutil/tests/test_aix.py -> build/lib.linux-x86_64-3.7/psutil/tests\n",
      "  copying psutil/tests/test_windows.py -> build/lib.linux-x86_64-3.7/psutil/tests\n",
      "  copying psutil/tests/test_process.py -> build/lib.linux-x86_64-3.7/psutil/tests\n",
      "  copying psutil/tests/test_unicode.py -> build/lib.linux-x86_64-3.7/psutil/tests\n",
      "  copying psutil/tests/runner.py -> build/lib.linux-x86_64-3.7/psutil/tests\n",
      "  copying psutil/tests/test_osx.py -> build/lib.linux-x86_64-3.7/psutil/tests\n",
      "  copying psutil/tests/test_sunos.py -> build/lib.linux-x86_64-3.7/psutil/tests\n",
      "  copying psutil/tests/__main__.py -> build/lib.linux-x86_64-3.7/psutil/tests\n",
      "  copying psutil/tests/test_connections.py -> build/lib.linux-x86_64-3.7/psutil/tests\n",
      "  copying psutil/tests/test_linux.py -> build/lib.linux-x86_64-3.7/psutil/tests\n",
      "  copying psutil/tests/test_bsd.py -> build/lib.linux-x86_64-3.7/psutil/tests\n",
      "  running build_ext\n",
      "  building 'psutil._psutil_linux' extension\n",
      "  creating build/temp.linux-x86_64-3.7\n",
      "  creating build/temp.linux-x86_64-3.7/psutil\n",
      "  gcc -pthread -Wno-unused-result -Wsign-compare -DNDEBUG -g -fwrapv -O3 -Wall -fPIC -DPSUTIL_POSIX=1 -DPSUTIL_SIZEOF_PID_T=4 -DPSUTIL_VERSION=570 -DPSUTIL_LINUX=1 -DPSUTIL_ETHTOOL_MISSING_TYPES=1 -I/usr/local/include/python3.7m -c psutil/_psutil_common.c -o build/temp.linux-x86_64-3.7/psutil/_psutil_common.o\n",
      "  unable to execute 'gcc': No such file or directory\n",
      "  Traceback (most recent call last):\n",
      "    File \"/usr/local/lib/python3.7/distutils/unixccompiler.py\", line 118, in _compile\n",
      "      extra_postargs)\n",
      "    File \"/usr/local/lib/python3.7/distutils/ccompiler.py\", line 910, in spawn\n",
      "      spawn(cmd, dry_run=self.dry_run)\n",
      "    File \"/usr/local/lib/python3.7/distutils/spawn.py\", line 36, in spawn\n",
      "      _spawn_posix(cmd, search_path, dry_run=dry_run)\n",
      "    File \"/usr/local/lib/python3.7/distutils/spawn.py\", line 159, in _spawn_posix\n",
      "      % (cmd, exit_status))\n",
      "  distutils.errors.DistutilsExecError: command 'gcc' failed with exit status 1\n",
      "  \n",
      "  During handling of the above exception, another exception occurred:\n",
      "  \n",
      "  Traceback (most recent call last):\n",
      "    File \"/usr/local/lib/python3.7/distutils/core.py\", line 148, in setup\n",
      "      dist.run_commands()\n",
      "    File \"/usr/local/lib/python3.7/distutils/dist.py\", line 966, in run_commands\n",
      "      self.run_command(cmd)\n",
      "    File \"/usr/local/lib/python3.7/distutils/dist.py\", line 985, in run_command\n",
      "      cmd_obj.run()\n",
      "    File \"/usr/local/lib/python3.7/site-packages/wheel/bdist_wheel.py\", line 223, in run\n",
      "      self.run_command('build')\n",
      "    File \"/usr/local/lib/python3.7/distutils/cmd.py\", line 313, in run_command\n",
      "      self.distribution.run_command(command)\n",
      "    File \"/usr/local/lib/python3.7/distutils/dist.py\", line 985, in run_command\n",
      "      cmd_obj.run()\n",
      "    File \"/usr/local/lib/python3.7/distutils/command/build.py\", line 135, in run\n",
      "      self.run_command(cmd_name)\n",
      "    File \"/usr/local/lib/python3.7/distutils/cmd.py\", line 313, in run_command\n",
      "      self.distribution.run_command(command)\n",
      "    File \"/usr/local/lib/python3.7/distutils/dist.py\", line 985, in run_command\n",
      "      cmd_obj.run()\n",
      "    File \"/usr/local/lib/python3.7/site-packages/setuptools/command/build_ext.py\", line 87, in run\n",
      "      _build_ext.run(self)\n",
      "    File \"/usr/local/lib/python3.7/distutils/command/build_ext.py\", line 340, in run\n",
      "      self.build_extensions()\n",
      "    File \"/usr/local/lib/python3.7/distutils/command/build_ext.py\", line 449, in build_extensions\n",
      "      self._build_extensions_serial()\n",
      "    File \"/usr/local/lib/python3.7/distutils/command/build_ext.py\", line 474, in _build_extensions_serial\n",
      "      self.build_extension(ext)\n",
      "    File \"/usr/local/lib/python3.7/site-packages/setuptools/command/build_ext.py\", line 208, in build_extension\n",
      "      _build_ext.build_extension(self, ext)\n",
      "    File \"/usr/local/lib/python3.7/distutils/command/build_ext.py\", line 534, in build_extension\n",
      "      depends=ext.depends)\n",
      "    File \"/usr/local/lib/python3.7/distutils/ccompiler.py\", line 574, in compile\n",
      "      self._compile(obj, src, ext, cc_args, extra_postargs, pp_opts)\n",
      "    File \"/usr/local/lib/python3.7/distutils/unixccompiler.py\", line 120, in _compile\n",
      "      raise CompileError(msg)\n",
      "  distutils.errors.CompileError: command 'gcc' failed with exit status 1\n",
      "  \n",
      "  During handling of the above exception, another exception occurred:\n",
      "  \n",
      "  Traceback (most recent call last):\n",
      "    File \"/tmp/pip-install-l8tl86e7/psutil/setup.py\", line 393, in main\n",
      "      setup(**kwargs)\n",
      "    File \"/usr/local/lib/python3.7/site-packages/setuptools/__init__.py\", line 144, in setup\n",
      "      return distutils.core.setup(**attrs)\n",
      "    File \"/usr/local/lib/python3.7/distutils/core.py\", line 163, in setup\n",
      "      raise SystemExit(\"error: \" + str(msg))\n",
      "  SystemExit: error: command 'gcc' failed with exit status 1\n",
      "  \n",
      "  During handling of the above exception, another exception occurred:\n",
      "  \n",
      "  Traceback (most recent call last):\n",
      "    File \"<string>\", line 1, in <module>\n",
      "    File \"/tmp/pip-install-l8tl86e7/psutil/setup.py\", line 426, in <module>\n",
      "      main()\n",
      "    File \"/tmp/pip-install-l8tl86e7/psutil/setup.py\", line 400, in main\n",
      "      missdeps(\"sudo apt-get install gcc python%s-dev\" % py3)\n",
      "    File \"/tmp/pip-install-l8tl86e7/psutil/setup.py\", line 116, in missdeps\n",
      "      s = hilite(\"C compiler or Python headers are not installed \", ok=False)\n",
      "  TypeError: hilite() got an unexpected keyword argument 'ok'\n",
      "  ----------------------------------------\u001b[0m\n",
      "\u001b[31m  ERROR: Failed building wheel for psutil\u001b[0m\n",
      "\u001b[?25h  Running setup.py clean for psutil\n"
     ]
    },
    {
     "name": "stdout",
     "output_type": "stream",
     "text": [
      "Failed to build setproctitle psutil\n",
      "Installing collected packages: py, more-itertools, pluggy, pytest, funcsigs, setproctitle, psutil, ray\n",
      "    Running setup.py install for setproctitle ... \u001b[?25lerror\n",
      "\u001b[31m    ERROR: Command errored out with exit status 1:\n",
      "     command: /usr/local/bin/python -u -c 'import sys, setuptools, tokenize; sys.argv[0] = '\"'\"'/tmp/pip-install-l8tl86e7/setproctitle/setup.py'\"'\"'; __file__='\"'\"'/tmp/pip-install-l8tl86e7/setproctitle/setup.py'\"'\"';f=getattr(tokenize, '\"'\"'open'\"'\"', open)(__file__);code=f.read().replace('\"'\"'\\r\\n'\"'\"', '\"'\"'\\n'\"'\"');f.close();exec(compile(code, __file__, '\"'\"'exec'\"'\"'))' install --record /tmp/pip-record-qq65jv04/install-record.txt --single-version-externally-managed --compile --install-headers /usr/local/include/python3.7m/setproctitle\n",
      "         cwd: /tmp/pip-install-l8tl86e7/setproctitle/\n",
      "    Complete output (10 lines):\n",
      "    running install\n",
      "    running build\n",
      "    running build_ext\n",
      "    building 'setproctitle' extension\n",
      "    creating build\n",
      "    creating build/temp.linux-x86_64-3.7\n",
      "    creating build/temp.linux-x86_64-3.7/src\n",
      "    gcc -pthread -Wno-unused-result -Wsign-compare -DNDEBUG -g -fwrapv -O3 -Wall -fPIC -DSPT_VERSION=1.1.10 -DHAVE_SYS_PRCTL_H=1 -I/usr/local/include/python3.7m -c src/setproctitle.c -o build/temp.linux-x86_64-3.7/src/setproctitle.o\n",
      "    unable to execute 'gcc': No such file or directory\n",
      "    error: command 'gcc' failed with exit status 1\n",
      "    ----------------------------------------\u001b[0m\n",
      "\u001b[31mERROR: Command errored out with exit status 1: /usr/local/bin/python -u -c 'import sys, setuptools, tokenize; sys.argv[0] = '\"'\"'/tmp/pip-install-l8tl86e7/setproctitle/setup.py'\"'\"'; __file__='\"'\"'/tmp/pip-install-l8tl86e7/setproctitle/setup.py'\"'\"';f=getattr(tokenize, '\"'\"'open'\"'\"', open)(__file__);code=f.read().replace('\"'\"'\\r\\n'\"'\"', '\"'\"'\\n'\"'\"');f.close();exec(compile(code, __file__, '\"'\"'exec'\"'\"'))' install --record /tmp/pip-record-qq65jv04/install-record.txt --single-version-externally-managed --compile --install-headers /usr/local/include/python3.7m/setproctitle Check the logs for full command output.\u001b[0m\n",
      "\u001b[?25h"
     ]
    }
   ],
   "source": [
    "print('NOTE: Intentionally crashing session to use the newly installed library.\\n')\n",
    "\n",
    "!pip uninstall -y pyarrow\n",
    "!pip install ray[debug]==0.7.5\n",
    "\n",
    "# A hack to force the runtime to restart, needed to include the above dependencies.\n",
    "import os\n",
    "os._exit(0)"
   ]
  },
  {
   "cell_type": "markdown",
   "metadata": {
    "colab_type": "text",
    "id": "r-eaEv_CmqDq"
   },
   "source": [
    "# Exercise 6 - Handling Slow Tasks\n",
    "\n",
    "**GOAL:** The goal of this exercise is to show how to use `ray.wait` to avoid waiting for slow tasks.\n",
    "\n",
    "See the documentation for `ray.wait` at https://ray.readthedocs.io/en/latest/package-ref.html?highlight=ray.wait#ray.wait.\n",
    "\n",
    "### Concepts for this Exercise - ray.wait\n",
    "\n",
    "After launching a number of tasks, you may want to know which ones have finished executing. This can be done with `ray.wait`. The function works as follows.\n",
    "\n",
    "```python\n",
    "ready_ids, remaining_ids = ray.wait(object_ids, num_returns=1, timeout=None)\n",
    "```\n",
    "\n",
    "**Arguments:**\n",
    "- `object_ids`: This is a list of object IDs.\n",
    "- `num_returns`: This is maximum number of object IDs to wait for. The default value is `1`.\n",
    "- `timeout`: This is the maximum amount of time in milliseconds to wait for. So `ray.wait` will block until either `num_returns` objects are ready or until `timeout` milliseconds have passed.\n",
    "\n",
    "**Return values:**\n",
    "- `ready_ids`: This is a list of object IDs that are available in the object store.\n",
    "- `remaining_ids`: This is a list of the IDs that were in `object_ids` but are not in `ready_ids`, so the IDs in `ready_ids` and `remaining_ids` together make up all the IDs in `object_ids`."
   ]
  },
  {
   "cell_type": "code",
   "execution_count": 1,
   "metadata": {
    "colab": {},
    "colab_type": "code",
    "id": "4G423eU3mqDs"
   },
   "outputs": [
    {
     "name": "stdout",
     "output_type": "stream",
     "text": [
      "Successfully imported ray!\n"
     ]
    }
   ],
   "source": [
    "from __future__ import absolute_import\n",
    "from __future__ import division\n",
    "from __future__ import print_function\n",
    "\n",
    "import numpy as np\n",
    "import ray\n",
    "import time\n",
    "\n",
    "print('Successfully imported ray!')"
   ]
  },
  {
   "cell_type": "code",
   "execution_count": 2,
   "metadata": {
    "colab": {},
    "colab_type": "code",
    "id": "XcVSx4CEmqDw"
   },
   "outputs": [
    {
     "name": "stderr",
     "output_type": "stream",
     "text": [
      "2020-04-30 08:00:53,853\tINFO resource_spec.py:212 -- Starting Ray with 81.69 GiB memory available for workers and up to 1.86 GiB for objects. You can adjust these settings with ray.init(memory=<bytes>, object_store_memory=<bytes>).\n",
      "2020-04-30 08:00:54,301\tINFO services.py:1148 -- View the Ray dashboard at \u001b[1m\u001b[32mlocalhost:8265\u001b[39m\u001b[22m\n"
     ]
    }
   ],
   "source": [
    "ray.init(num_cpus=6, object_store_memory=2*10**9, ignore_reinit_error=True)\n",
    "\n",
    "# Sleep a little to improve the accuracy of the timing measurements used below,\n",
    "# because some workers may still be starting up in the background.\n",
    "time.sleep(2.0)"
   ]
  },
  {
   "cell_type": "markdown",
   "metadata": {
    "colab_type": "text",
    "id": "dNrYSPhFmqDy"
   },
   "source": [
    "Define a remote function that takes a variable amount of time to run."
   ]
  },
  {
   "cell_type": "code",
   "execution_count": 3,
   "metadata": {
    "colab": {},
    "colab_type": "code",
    "id": "Xr17LNkqmqDz"
   },
   "outputs": [],
   "source": [
    "@ray.remote\n",
    "def f(i):\n",
    "    np.random.seed(5 + i)\n",
    "    x = np.random.uniform(0, 4)\n",
    "    time.sleep(x)\n",
    "    return i, time.time()"
   ]
  },
  {
   "cell_type": "markdown",
   "metadata": {
    "colab_type": "text",
    "id": "KyQRXQM4mqD1"
   },
   "source": [
    "**EXERCISE:** Using `ray.wait`, change the code below so that `initial_results` consists of the outputs of the first three tasks to complete instead of the first three tasks that were submitted."
   ]
  },
  {
   "cell_type": "code",
   "execution_count": 7,
   "metadata": {
    "colab": {},
    "colab_type": "code",
    "id": "bEacrF9zmqD2"
   },
   "outputs": [],
   "source": [
    "start_time = time.time()\n",
    "\n",
    "# This launches 6 tasks, each of which takes a random amount of time to\n",
    "# complete.\n",
    "result_ids = [f.remote(i) for i in range(6)]\n",
    "# Get one batch of tasks. Instead of waiting for a fixed subset of tasks, we\n",
    "# should instead use the first 3 tasks that finish.\n",
    "\n",
    "initial_ids , remaining_ids = ray.wait(result_ids, num_returns=3, timeout=None)\n",
    "result_ids = initial_ids + remaining_ids\n",
    "initial_results = ray.get(result_ids[:3])\n",
    "\n",
    "end_time = time.time()\n",
    "duration = end_time - start_time"
   ]
  },
  {
   "cell_type": "markdown",
   "metadata": {
    "colab_type": "text",
    "id": "65zF3catmqD4"
   },
   "source": [
    "**EXERCISE:** Change the code below so that `remaining_results` consists of the outputs of the last three tasks to complete."
   ]
  },
  {
   "cell_type": "code",
   "execution_count": 8,
   "metadata": {
    "colab": {},
    "colab_type": "code",
    "id": "6vfvmSvymqEV"
   },
   "outputs": [],
   "source": [
    "# Wait for the remaining tasks to complete.\n",
    "remaining_results = ray.get(result_ids[3:])"
   ]
  },
  {
   "cell_type": "markdown",
   "metadata": {
    "colab_type": "text",
    "id": "zzVeSWQcmqEY"
   },
   "source": [
    "**VERIFY:** Run some checks to verify that the changes you made to the code were correct. Some of the checks should fail when you initially run the cells. After completing the exercises, the checks should pass."
   ]
  },
  {
   "cell_type": "code",
   "execution_count": 9,
   "metadata": {
    "colab": {},
    "colab_type": "code",
    "id": "POavRmrsmqEZ"
   },
   "outputs": [
    {
     "name": "stdout",
     "output_type": "stream",
     "text": [
      "Success! The example took 0.893104076385498 seconds.\n"
     ]
    }
   ],
   "source": [
    "assert len(initial_results) == 3\n",
    "assert len(remaining_results) == 3\n",
    "\n",
    "initial_indices = [result[0] for result in initial_results]\n",
    "initial_times = [result[1] for result in initial_results]\n",
    "remaining_indices = [result[0] for result in remaining_results]\n",
    "remaining_times = [result[1] for result in remaining_results]\n",
    "\n",
    "assert set(initial_indices + remaining_indices) == set(range(6))\n",
    "\n",
    "assert duration < 1.5, ('The initial batch of ten tasks was retrieved in '\n",
    "                        '{} seconds. This is too slow.'.format(duration))\n",
    "\n",
    "assert duration > 0.8, ('The initial batch of ten tasks was retrieved in '\n",
    "                        '{} seconds. This is too slow.'.format(duration))\n",
    "\n",
    "# Make sure the initial results actually completed first.\n",
    "assert max(initial_times) < min(remaining_times)\n",
    "\n",
    "print('Success! The example took {} seconds.'.format(duration))"
   ]
  },
  {
   "cell_type": "markdown",
   "metadata": {
    "colab_type": "text",
    "id": "IK6AxwYXm_MP"
   },
   "source": [
    "# Exercise 7 - Process Tasks in Order of Completion\n",
    "\n",
    "**GOAL:** The goal of this exercise is to show how to use `ray.wait` to process tasks in the order that they finish.\n",
    "\n",
    "See the documentation for ray.wait at https://ray.readthedocs.io/en/latest/package-ref.html?highlight=ray.wait#ray.wait.\n",
    "\n",
    "## Concepts for this exercise - `ray.wait`\n",
    "\n",
    "After launching a number of tasks, you may want to run the results sequentially. To do so, we build off of exercise 6 and use `ray.wait` to execute the results sequentially. \n",
    "\n",
    "We are able to use `ray.wait` because the two lists returned by **`ray.wait` maintains the ordering of the input list**. That is, if `f` is a remote function, the code \n",
    "```python\n",
    "    results = ray.wait([f.remote(i) for i in range(100)], num_returns=10)\n",
    "```\n",
    "will return `(ready_list, remain_list)` and the `ObjectID`s of in those lists will be ordered by the argument passed to `f` above."
   ]
  },
  {
   "cell_type": "code",
   "execution_count": 10,
   "metadata": {
    "colab": {
     "base_uri": "https://localhost:8080/",
     "height": 351
    },
    "colab_type": "code",
    "executionInfo": {
     "elapsed": 355,
     "status": "error",
     "timestamp": 1569887890881,
     "user": {
      "displayName": "",
      "photoUrl": "",
      "userId": ""
     },
     "user_tz": 420
    },
    "id": "sXln7U76m_v7",
    "outputId": "9487f7f1-ba84-49ac-ad0f-bd8d74ce0c6a"
   },
   "outputs": [],
   "source": [
    "from __future__ import absolute_import\n",
    "from __future__ import division\n",
    "from __future__ import print_function\n",
    "\n",
    "import numpy as np\n",
    "import ray\n",
    "import time"
   ]
  },
  {
   "cell_type": "code",
   "execution_count": 11,
   "metadata": {
    "colab": {
     "base_uri": "https://localhost:8080/",
     "height": 164
    },
    "colab_type": "code",
    "executionInfo": {
     "elapsed": 357,
     "status": "error",
     "timestamp": 1569887907853,
     "user": {
      "displayName": "",
      "photoUrl": "",
      "userId": ""
     },
     "user_tz": 420
    },
    "id": "Qs3jUiK0nCwj",
    "outputId": "d7d8c1fd-c919-4184-da72-1b25c38723cd"
   },
   "outputs": [
    {
     "name": "stderr",
     "output_type": "stream",
     "text": [
      "2020-04-30 09:27:08,720\tERROR worker.py:682 -- Calling ray.init() again after it has already been called.\n"
     ]
    }
   ],
   "source": [
    "ray.init(num_cpus=5, include_webui=False, ignore_reinit_error=True)"
   ]
  },
  {
   "cell_type": "code",
   "execution_count": 12,
   "metadata": {
    "colab": {
     "base_uri": "https://localhost:8080/",
     "height": 215
    },
    "colab_type": "code",
    "executionInfo": {
     "elapsed": 465,
     "status": "error",
     "timestamp": 1569887912475,
     "user": {
      "displayName": "",
      "photoUrl": "",
      "userId": ""
     },
     "user_tz": 420
    },
    "id": "idoP1vsgnG5z",
    "outputId": "98634762-92c5-4597-a997-806c9ffbacb4"
   },
   "outputs": [],
   "source": [
    "@ray.remote\n",
    "def f():\n",
    "    time.sleep(np.random.uniform(0, 5))\n",
    "    return time.time()"
   ]
  },
  {
   "cell_type": "markdown",
   "metadata": {
    "colab": {
     "base_uri": "https://localhost:8080/",
     "height": 150
    },
    "colab_type": "code",
    "executionInfo": {
     "elapsed": 331,
     "status": "error",
     "timestamp": 1569887921445,
     "user": {
      "displayName": "",
      "photoUrl": "",
      "userId": ""
     },
     "user_tz": 420
    },
    "id": "QY2xr5jRnIAN",
    "outputId": "2ccc7a5c-7187-45b8-f736-4ffe58db6d78"
   },
   "source": [
    "**EXERCISE:** Change the code below to use `ray.wait` to get the results of the tasks in the order that they complete.\n",
    "\n",
    "**NOTE:** It would be a simple modification to maintain a pool of 10 experiments and to start a new experiment whenever one finishes."
   ]
  },
  {
   "cell_type": "code",
   "execution_count": 21,
   "metadata": {
    "colab": {
     "base_uri": "https://localhost:8080/",
     "height": 232
    },
    "colab_type": "code",
    "executionInfo": {
     "elapsed": 502,
     "status": "error",
     "timestamp": 1569887929302,
     "user": {
      "displayName": "",
      "photoUrl": "",
      "userId": ""
     },
     "user_tz": 420
    },
    "id": "Tqwm2XJWnKOe",
    "outputId": "162f600d-28b9-4e30-88ef-3783ae86f186"
   },
   "outputs": [
    {
     "name": "stdout",
     "output_type": "stream",
     "text": [
      "Processing result which finished after 2.9861671924591064 seconds.\n",
      "Processing result which finished after 3.06778621673584 seconds.\n",
      "Processing result which finished after 3.569009304046631 seconds.\n",
      "Processing result which finished after 4.024271488189697 seconds.\n",
      "Processing result which finished after 4.904977321624756 seconds.\n",
      "Processing result which finished after 5.060281753540039 seconds.\n",
      "Processing result which finished after 5.29135537147522 seconds.\n",
      "Processing result which finished after 5.932264804840088 seconds.\n",
      "Processing result which finished after 6.672206401824951 seconds.\n",
      "Processing result which finished after 6.68027925491333 seconds.\n"
     ]
    }
   ],
   "source": [
    "start_time = time.time()\n",
    "\n",
    "remaining_result_ids = [f.remote() for _ in range(10)]\n",
    "\n",
    "# Get the results.\n",
    "results = []\n",
    "while len(remaining_result_ids) > 0:\n",
    "    # EXERCISE: Instead of simply waiting for the first result from\n",
    "    # remaining_result_ids, use ray.wait to get the first one to finish.\n",
    "    # result_id = remaining_result_ids[0]\n",
    "    # remaining_result_ids = remaining_result_ids[1:]\n",
    "    result_id, remaining_result_ids = ray.wait(remaining_result_ids, num_returns=1)\n",
    "    result = ray.get(result_id[0])\n",
    "    results.append(result)\n",
    "    print('Processing result which finished after {} seconds.'\n",
    "          .format(result - start_time))    \n",
    "\n",
    "end_time = time.time()\n",
    "duration = end_time - start_time"
   ]
  },
  {
   "cell_type": "markdown",
   "metadata": {
    "colab_type": "text",
    "id": "TnkpYNBHnPTE"
   },
   "source": [
    "**VERIFY:** Run some checks to verify that the changes you made to the code were correct. Some of the checks should fail when you initially run the cells. After completing the exercises, the checks should pass."
   ]
  },
  {
   "cell_type": "code",
   "execution_count": 22,
   "metadata": {
    "colab": {},
    "colab_type": "code",
    "id": "1PtResifnPmr"
   },
   "outputs": [
    {
     "name": "stdout",
     "output_type": "stream",
     "text": [
      "Success! The example took 6.681589603424072 seconds.\n"
     ]
    }
   ],
   "source": [
    "assert results == sorted(results), ('The results were not processed in the '\n",
    "                                    'order that they finished.')\n",
    "\n",
    "print('Success! The example took {} seconds.'.format(duration))"
   ]
  },
  {
   "cell_type": "code",
   "execution_count": null,
   "metadata": {},
   "outputs": [],
   "source": []
  }
 ],
 "metadata": {
  "colab": {
   "name": "Ray Tutorial - In-Order Task Processing",
   "provenance": [
    {
     "file_id": "https://github.com/ray-project/tutorial/blob/master/exercises/exercise06-Wait.ipynb",
     "timestamp": 1569887975269
    }
   ],
   "toc_visible": true
  },
  "kernelspec": {
   "display_name": "Python 3",
   "language": "python",
   "name": "python3"
  },
  "language_info": {
   "codemirror_mode": {
    "name": "ipython",
    "version": 3
   },
   "file_extension": ".py",
   "mimetype": "text/x-python",
   "name": "python",
   "nbconvert_exporter": "python",
   "pygments_lexer": "ipython3",
   "version": "3.7.6"
  },
  "toc": {
   "base_numbering": 1,
   "nav_menu": {},
   "number_sections": false,
   "sideBar": true,
   "skip_h1_title": false,
   "title_cell": "Table of Contents",
   "title_sidebar": "Contents",
   "toc_cell": false,
   "toc_position": {},
   "toc_section_display": true,
   "toc_window_display": true
  }
 },
 "nbformat": 4,
 "nbformat_minor": 1
}
